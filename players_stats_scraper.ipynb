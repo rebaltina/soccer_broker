{
 "cells": [
  {
   "cell_type": "code",
   "execution_count": 5,
   "metadata": {},
   "outputs": [],
   "source": [
    "## all imports\n",
    "import requests\n",
    "from bs4 import BeautifulSoup\n",
    "import time\n",
    "import operator\n",
    "import socket\n",
    "#import cPickle\n",
    "import re # regular expressions\n",
    "\n",
    "import pandas as pd\n",
    "from pandas import DataFrame\n",
    "\n",
    "\n",
    "import seaborn as sns\n",
    "sns.set_context(\"talk\")\n",
    "sns.set_style(\"white\")\n",
    "\n",
    "#from secret import *\n",
    "\n",
    "#This code is to import the libraries we will ptentially be using during the execution of the tasks I have been assigned to\n",
    "# data analysis and wrangling\n",
    "import pandas as pd\n",
    "import pickle\n",
    "import numpy as np\n",
    "import random as rnd\n",
    "from datetime import timedelta\n",
    "import scipy\n",
    "from scipy import stats\n",
    "#Limiting floats output to 3 decimal points\n",
    "pd.set_option('display.float_format', lambda x: '{:.3f}'.format(x)) \n",
    "\n",
    "# visualization\n",
    "import seaborn as sns\n",
    "import matplotlib.pyplot as plt\n",
    "%matplotlib inline\n",
    "# machine learning and metrics\n",
    "from sklearn import model_selection\n",
    "from sklearn.metrics import classification_report\n",
    "from sklearn.metrics import confusion_matrix\n",
    "from sklearn.metrics import r2_score\n",
    "from sklearn.metrics import accuracy_score, make_scorer, mean_squared_error\n",
    "from sklearn.model_selection import KFold,cross_val_score\n",
    "from sklearn.linear_model import LogisticRegression\n",
    "from sklearn.linear_model import LinearRegression, BayesianRidge, ElasticNet, Lasso, SGDRegressor, Ridge\n",
    "from sklearn.kernel_ridge import KernelRidge\n",
    "from sklearn.discriminant_analysis import LinearDiscriminantAnalysis\n",
    "from sklearn.tree import DecisionTreeRegressor\n",
    "from sklearn.ensemble import ExtraTreesRegressor,GradientBoostingRegressor,RandomForestRegressor\n",
    "from sklearn.svm import SVC, LinearSVC, SVR, LinearSVR\n",
    "from sklearn.ensemble import RandomForestClassifier\n",
    "from sklearn.neighbors import KNeighborsClassifier\n",
    "from sklearn.naive_bayes import GaussianNB\n",
    "from sklearn.linear_model import Perceptron\n",
    "from sklearn.linear_model import SGDClassifier\n",
    "from sklearn.tree import DecisionTreeClassifier\n",
    "\n",
    "import warnings\n",
    "warnings.filterwarnings('ignore')\n",
    "import urllib\n",
    "import urllib.request\n",
    "import os\n",
    "from string import ascii_lowercase\n",
    "import csv"
   ]
  },
  {
   "cell_type": "code",
   "execution_count": 14,
   "metadata": {},
   "outputs": [],
   "source": [
    "#from selenium import webdriver \n",
    "#from selenium.webdriver.common.by import By \n",
    "#from selenium.webdriver.support.ui import WebDriverWait \n",
    "#from selenium.webdriver.support import expected_conditions as EC \n",
    "#from selenium.common.exceptions import TimeoutException"
   ]
  },
  {
   "cell_type": "code",
   "execution_count": 47,
   "metadata": {},
   "outputs": [
    {
     "data": {
      "text/plain": [
       "250    /marcelo-moreno/profil/spieler/54162\n",
       "251      /luiz-gustavo/profil/spieler/10471\n",
       "252         /loic-remy/profil/spieler/45121\n",
       "254      /achille-emana/profil/spieler/7020\n",
       "255       /albert-riera/profil/spieler/7373\n",
       "Name: /seydou-doumbia/profil/spieler/75287, dtype: object"
      ]
     },
     "execution_count": 47,
     "metadata": {},
     "output_type": "execute_result"
    }
   ],
   "source": [
    "FiveH_href=pd.read_csv('hrefs-players.csv')\n",
    "playerlist=FiveH_href.iloc[:,0]\n",
    "playerlist.pop(253)\n"
   ]
  },
  {
   "cell_type": "code",
   "execution_count": 48,
   "metadata": {},
   "outputs": [],
   "source": [
    "def createNewUrl(player):\n",
    "    player_splitted=player.split(\"/\")\n",
    "    url=\"https://www.transfermarkt.co.uk/\"+player_splitted[1]+\"/leistungsdatendetails/spieler/\"+player_splitted[4]\n",
    "    return(url)"
   ]
  },
  {
   "cell_type": "code",
   "execution_count": 49,
   "metadata": {},
   "outputs": [],
   "source": [
    "#url_detailed='https://www.transfermarkt.co.uk/luis-suarez/leistungsdatendetails/spieler/44352'\n",
    "\n",
    "def scrape_url(url_player):\n",
    "    headers = {'User-Agent': 'Mozilla/5.0 (Macintosh; Intel Mac OS X 10.13; rv:63.0) Gecko/20100101 Firefox/63.0'}\n",
    "    response_detailed = requests.get(url, headers=headers)\n",
    "    time.sleep(10)\n",
    "    soup = BeautifulSoup(response_detailed.text,\"html.parser\")\n",
    "    return(soup)"
   ]
  },
  {
   "cell_type": "code",
   "execution_count": 50,
   "metadata": {},
   "outputs": [],
   "source": [
    "def wrangling_soup(soup):\n",
    "    data = []\n",
    "    table = soup.find('table', attrs={'class':'items'})\n",
    "    table_body = table.find('tbody')\n",
    "\n",
    "    rows = table_body.find_all('tr')\n",
    "    for row in rows:\n",
    "        cols = row.find_all('td')\n",
    "        cols = [ele.text.strip() for ele in cols]\n",
    "        data.append([ele for ele in cols if ele])\n",
    "    return(data)\n",
    "\n"
   ]
  },
  {
   "cell_type": "code",
   "execution_count": 51,
   "metadata": {},
   "outputs": [],
   "source": [
    "with open(\"practice.csv\", \"w\") as f:\n",
    "    writer = csv.writer(f,delimiter=',')\n",
    "    for player in playerlist:\n",
    "        url=createNewUrl(player)\n",
    "        soup=scrape_url(url)\n",
    "        data=wrangling_soup(soup)\n",
    "        \n",
    "        for i in data:\n",
    "            i.insert(0,url)\n",
    "            writer.writerow(i)\n",
    "            "
   ]
  },
  {
   "cell_type": "code",
   "execution_count": 29,
   "metadata": {},
   "outputs": [],
   "source": [
    "players_stats=pd.read_csv('practice.csv',  names=[\"names\",\"season\", \"league\", \"apps\",\"PPM\",\"goals\",\"assists\", \"yellow_1/yellow_2/red\", \"mins_played\"] )"
   ]
  },
  {
   "cell_type": "code",
   "execution_count": 30,
   "metadata": {},
   "outputs": [
    {
     "data": {
      "text/plain": [
       "21130"
      ]
     },
     "execution_count": 30,
     "metadata": {},
     "output_type": "execute_result"
    }
   ],
   "source": [
    "len(players_stats)"
   ]
  },
  {
   "cell_type": "code",
   "execution_count": 31,
   "metadata": {},
   "outputs": [],
   "source": [
    "for i in range(len(players_stats)):\n",
    "    players_stats['names'][i].split('/')"
   ]
  },
  {
   "cell_type": "code",
   "execution_count": 32,
   "metadata": {},
   "outputs": [],
   "source": [
    "players_stats['names']=players_stats['names'].str.replace('https://www.transfermarkt.co.uk/','', regex=True)\n",
    "players_stats['names']=players_stats['names'].str.replace('/leistungsdatendetails/spieler','', regex=True)\n",
    "players_stats['names']=players_stats['names'].str.replace('-',' ', regex=True)\n",
    "for state in players_stats['names']:\n",
    "    if \"/\" in state:\n",
    "        row_num = players_stats.loc[players_stats['names']==state].index[0]\n",
    "        players_stats.at[row_num, 'names'] = state[:state.index(\"/\")]"
   ]
  },
  {
   "cell_type": "code",
   "execution_count": 33,
   "metadata": {},
   "outputs": [
    {
     "data": {
      "text/plain": [
       "names                        shay given\n",
       "season                            16/17\n",
       "league                   Premier League\n",
       "apps                                  5\n",
       "PPM                                0,20\n",
       "goals                                 -\n",
       "assists                              14\n",
       "yellow_1/yellow_2/red                14\n",
       "mins_played                           -\n",
       "Name: 6526, dtype: object"
      ]
     },
     "execution_count": 33,
     "metadata": {},
     "output_type": "execute_result"
    }
   ],
   "source": [
    "players_stats[\"assists\"][players_stats[\"names\"]==\"emiliano viviano\"]=players_stats[\"yellow_1/yellow_2/red\"]\n",
    "players_stats[\"assists\"][players_stats[\"names\"]==\"sebastien frey\"]=players_stats[\"yellow_1/yellow_2/red\"]\n",
    "players_stats[\"assists\"][players_stats[\"names\"]==\"eduardo\"]=players_stats[\"yellow_1/yellow_2/red\"]\n",
    "players_stats[\"assists\"][players_stats[\"names\"]==\"neto\"]=players_stats[\"yellow_1/yellow_2/red\"]\n",
    "players_stats[\"assists\"][players_stats[\"names\"]==\"maksym koval\"]=players_stats[\"yellow_1/yellow_2/red\"]\n",
    "players_stats[\"assists\"][players_stats[\"names\"]==\"federico marchetti\"]=players_stats[\"yellow_1/yellow_2/red\"]\n",
    "players_stats[\"assists\"][players_stats[\"names\"]==\"marco storari\"]=players_stats[\"yellow_1/yellow_2/red\"]\n",
    "players_stats[\"assists\"][players_stats[\"names\"]==\"roberto\"]=players_stats[\"yellow_1/yellow_2/red\"]\n",
    "players_stats[\"assists\"][players_stats[\"names\"]==\"ben foster\"]=players_stats[\"yellow_1/yellow_2/red\"]\n",
    "players_stats[\"assists\"][players_stats[\"names\"]==\"bernd leno\"]=players_stats[\"yellow_1/yellow_2/red\"]\n",
    "players_stats[\"assists\"][players_stats[\"names\"]==\"eduardo\"]=players_stats[\"goals\"]\n",
    "players_stats[\"assists\"][players_stats[\"names\"]==\"diego lopez\"]=players_stats[\"yellow_1/yellow_2/red\"]\n",
    "players_stats[\"assists\"][players_stats[\"names\"]==\"anders lindegaard\"]=players_stats[\"yellow_1/yellow_2/red\"]\n",
    "players_stats[\"assists\"][players_stats[\"names\"]==\"vladimir gabulov\"]=players_stats[\"yellow_1/yellow_2/red\"]\n",
    "players_stats[\"assists\"][players_stats[\"names\"]==\"ali al habsi\"]=players_stats[\"yellow_1/yellow_2/red\"]\n",
    "players_stats[\"assists\"][players_stats[\"names\"]==\"salvatore sirigu\"]=players_stats[\"yellow_1/yellow_2/red\"]\n",
    "players_stats[\"assists\"][players_stats[\"names\"]==\"shay given\"]=players_stats[\"yellow_1/yellow_2/red\"]\n",
    "players_stats.iloc[6526]"
   ]
  },
  {
   "cell_type": "code",
   "execution_count": 34,
   "metadata": {},
   "outputs": [],
   "source": [
    "#players_stats.drop([\"league\",\"PPM\",\"yellow_1/yellow_2/red\"], axis=1,inplace=True)\n",
    "#for i in range(len(players_stats.season)):\n",
    "    #players_stats.season.iloc[i]=(\"20\"+players_stats.season.iloc[i][3:])\n",
    "\n",
    "cols=[\"apps\",\"goals\",\"assists\", \"mins_played\"]\n",
    "for i in cols:\n",
    "    players_stats[i]=players_stats[i].str.replace('-','', regex=True)\n",
    "    players_stats[i]=players_stats[i].str.replace(\" /  / \",\"\", regex=True)\n",
    "    players_stats[i]=players_stats[i].str.replace(\"/\",\"\", regex=True)\n",
    "    players_stats[i]=players_stats[i].str.replace(\" \",\"\", regex=True)\n",
    "    players_stats[i]=players_stats[i].str.replace(\"'\",\"\", regex=True)\n",
    "    players_stats[i]=pd.to_numeric(players_stats[i])"
   ]
  },
  {
   "cell_type": "code",
   "execution_count": 52,
   "metadata": {},
   "outputs": [
    {
     "name": "stdout",
     "output_type": "stream",
     "text": [
      "<class 'pandas.core.frame.DataFrame'>\n",
      "RangeIndex: 21130 entries, 0 to 21129\n",
      "Data columns (total 6 columns):\n",
      "names          21130 non-null object\n",
      "season         19768 non-null datetime64[ns]\n",
      "apps           20210 non-null float64\n",
      "goals          9548 non-null float64\n",
      "assists        8427 non-null float64\n",
      "mins_played    20029 non-null float64\n",
      "dtypes: datetime64[ns](1), float64(4), object(1)\n",
      "memory usage: 990.5+ KB\n"
     ]
    }
   ],
   "source": [
    "players_stats.info()"
   ]
  },
  {
   "cell_type": "code",
   "execution_count": 36,
   "metadata": {},
   "outputs": [],
   "source": [
    "players_stats.drop([\"league\",\"PPM\",\"yellow_1/yellow_2/red\"], axis=1,inplace=True)"
   ]
  },
  {
   "cell_type": "code",
   "execution_count": 37,
   "metadata": {},
   "outputs": [
    {
     "data": {
      "text/plain": [
       "0        2019\n",
       "1        2019\n",
       "2        2018\n",
       "3        2018\n",
       "4        2018\n",
       "5        2017\n",
       "6        2017\n",
       "7        2017\n",
       "8        2016\n",
       "9        2016\n",
       "10       2015\n",
       "11       2015\n",
       "12       2015\n",
       "13       2015\n",
       "14       2015\n",
       "15       2014\n",
       "16       2014\n",
       "17       2014\n",
       "18       2014\n",
       "19       2014\n",
       "20       2013\n",
       "21       2013\n",
       "22       2013\n",
       "23       2012\n",
       "24       2012\n",
       "25       2011\n",
       "26       2011\n",
       "27       2011\n",
       "28       2010\n",
       "29       2010\n",
       "         ... \n",
       "21100    2014\n",
       "21101    2014\n",
       "21102    2014\n",
       "21103    2013\n",
       "21104    2013\n",
       "21105    2013\n",
       "21106    2012\n",
       "21107    2012\n",
       "21108    2011\n",
       "21109    2011\n",
       "21110    2011\n",
       "21111    2011\n",
       "21112    2010\n",
       "21113    2010\n",
       "21114    2010\n",
       "21115    2010\n",
       "21116    2009\n",
       "21117    2009\n",
       "21118    2009\n",
       "21119    2009\n",
       "21120    2008\n",
       "21121    2008\n",
       "21122    2007\n",
       "21123    2007\n",
       "21124    2006\n",
       "21125    2005\n",
       "21126    2005\n",
       "21127    2004\n",
       "21128    2004\n",
       "21129    2003\n",
       "Name: season, Length: 21130, dtype: object"
      ]
     },
     "execution_count": 37,
     "metadata": {},
     "output_type": "execute_result"
    }
   ],
   "source": [
    "players_stats.season=\"20\"+ players_stats.season.str[3:]\n",
    "#for i in range(len(players_stats.season)):\n",
    "    #players_stats.season.iloc[i]=(\"20\"+players_stats.season.iloc[i][3:])\n",
    "#players_stats.season.replace('/','',inplace=True)\n",
    "players_stats.season"
   ]
  },
  {
   "cell_type": "code",
   "execution_count": 49,
   "metadata": {},
   "outputs": [
    {
     "data": {
      "text/plain": [
       "0        2019\n",
       "1        2019\n",
       "2        2018\n",
       "3        2018\n",
       "4        2018\n",
       "5        2017\n",
       "6        2017\n",
       "7        2017\n",
       "8        2016\n",
       "9        2016\n",
       "10       2015\n",
       "11       2015\n",
       "12       2015\n",
       "13       2015\n",
       "14       2015\n",
       "15       2014\n",
       "16       2014\n",
       "17       2014\n",
       "18       2014\n",
       "19       2014\n",
       "20       2013\n",
       "21       2013\n",
       "22       2013\n",
       "23       2012\n",
       "24       2012\n",
       "25       2011\n",
       "26       2011\n",
       "27       2011\n",
       "28       2010\n",
       "29       2010\n",
       "         ... \n",
       "21100    2014\n",
       "21101    2014\n",
       "21102    2014\n",
       "21103    2013\n",
       "21104    2013\n",
       "21105    2013\n",
       "21106    2012\n",
       "21107    2012\n",
       "21108    2011\n",
       "21109    2011\n",
       "21110    2011\n",
       "21111    2011\n",
       "21112    2010\n",
       "21113    2010\n",
       "21114    2010\n",
       "21115    2010\n",
       "21116    2009\n",
       "21117    2009\n",
       "21118    2009\n",
       "21119    2009\n",
       "21120    2008\n",
       "21121    2008\n",
       "21122    2007\n",
       "21123    2007\n",
       "21124    2006\n",
       "21125    2005\n",
       "21126    2005\n",
       "21127    2004\n",
       "21128    2004\n",
       "21129    2003\n",
       "Name: season, Length: 21130, dtype: object"
      ]
     },
     "execution_count": 49,
     "metadata": {},
     "output_type": "execute_result"
    }
   ],
   "source": [
    "players_stats.season1"
   ]
  },
  {
   "cell_type": "code",
   "execution_count": 51,
   "metadata": {},
   "outputs": [],
   "source": [
    "players_stats['season']=pd.to_datetime(players_stats.season, errors='coerce')#.astype('datetime64')\n",
    "players_stats.drop(['season1'],axis=1,inplace=True)\n",
    "players_stats.to_csv(\"players_stats.csv\")\n"
   ]
  },
  {
   "cell_type": "code",
   "execution_count": null,
   "metadata": {},
   "outputs": [],
   "source": []
  }
 ],
 "metadata": {
  "kernelspec": {
   "display_name": "Python 3",
   "language": "python",
   "name": "python3"
  },
  "language_info": {
   "codemirror_mode": {
    "name": "ipython",
    "version": 3
   },
   "file_extension": ".py",
   "mimetype": "text/x-python",
   "name": "python",
   "nbconvert_exporter": "python",
   "pygments_lexer": "ipython3",
   "version": "3.7.2"
  }
 },
 "nbformat": 4,
 "nbformat_minor": 2
}
